{
 "cells": [
  {
   "cell_type": "markdown",
   "id": "f93d1cc0",
   "metadata": {},
   "source": [
    "### <center> TASK-1"
   ]
  },
  {
   "cell_type": "markdown",
   "id": "f7073212",
   "metadata": {},
   "source": [
    "### BASIC CALCULATOR USING PYTHON\n",
    "* 1. Addition\n",
    "* 2. Substraction\n",
    "* 3. Multiply\n",
    "* 4. Division"
   ]
  },
  {
   "cell_type": "code",
   "execution_count": 2,
   "id": "99b4fcda",
   "metadata": {},
   "outputs": [
    {
     "name": "stdout",
     "output_type": "stream",
     "text": [
      "Enter the First Number: 26\n",
      "Enter the Second Number: 36\n",
      "Enter the Operator: -\n",
      "-10\n"
     ]
    }
   ],
   "source": [
    "#  Using functions add(), subtract(), multiply() and divide() evaluate respective operations.\n",
    "\n",
    "x=int(input(\"Enter the First Number: \"))\n",
    "y=int(input(\"Enter the Second Number: \"))\n",
    "op=input(\"Enter the Operator: \")\n",
    "\n",
    "if op==\"+\":\n",
    "    print(x+y)\n",
    "elif op==\"-\":\n",
    "    print(x-y)\n",
    "elif op==\"*\":\n",
    "    print(x*y)\n",
    "elif op==\"/\":\n",
    "    print(x/y)\n",
    "else:\n",
    "    print(\"Invalid Operator\")           \n",
    "                                   # User choose the desired operation. Options (+,-,*,/)are valid. "
   ]
  },
  {
   "cell_type": "markdown",
   "id": "4d121ded",
   "metadata": {},
   "source": [
    "### <center>TASK-2"
   ]
  },
  {
   "cell_type": "markdown",
   "id": "b52ac2d1",
   "metadata": {},
   "source": [
    "### SETS\n",
    "* 1.Difference() 2.Symetric_difference()"
   ]
  },
  {
   "cell_type": "markdown",
   "id": "bf3c9575",
   "metadata": {},
   "source": [
    "### 1. Return a set that contains the items that only exist in set x, and not in set y?"
   ]
  },
  {
   "cell_type": "code",
   "execution_count": 3,
   "id": "6a24de6a",
   "metadata": {},
   "outputs": [],
   "source": [
    "# Difference method in set\n",
    "\n",
    "x={\"python\",\"jupyter\",\"idle\",\"docker\"}\n",
    "y={22,323,44,545,66}"
   ]
  },
  {
   "cell_type": "code",
   "execution_count": 4,
   "id": "fb32c2c2",
   "metadata": {},
   "outputs": [
    {
     "name": "stdout",
     "output_type": "stream",
     "text": [
      "{'jupyter', 'docker', 'idle', 'python'}\n"
     ]
    }
   ],
   "source": [
    "z=x.difference(y)\n",
    "print(z)"
   ]
  },
  {
   "cell_type": "markdown",
   "id": "78d71ad6",
   "metadata": {},
   "source": [
    "### 2.Return a set that contains all items from both sets, except items that are present in both sets?"
   ]
  },
  {
   "cell_type": "code",
   "execution_count": 7,
   "id": "976ebb39",
   "metadata": {},
   "outputs": [],
   "source": [
    "# Symmetric_difference\n",
    "\n",
    "a={\"apple\",\"banana\",\"grapes\",\"mango\"}\n",
    "b={\"grapes\",\"orange\",\"kiwi\",\"pomo\"}"
   ]
  },
  {
   "cell_type": "code",
   "execution_count": 8,
   "id": "34beab23",
   "metadata": {},
   "outputs": [
    {
     "name": "stdout",
     "output_type": "stream",
     "text": [
      "{'orange', 'mango', 'pomo', 'kiwi', 'apple', 'banana'}\n"
     ]
    }
   ],
   "source": [
    "c=a.symmetric_difference(b)\n",
    "print(c)"
   ]
  }
 ],
 "metadata": {
  "kernelspec": {
   "display_name": "Python 3",
   "language": "python",
   "name": "python3"
  },
  "language_info": {
   "codemirror_mode": {
    "name": "ipython",
    "version": 3
   },
   "file_extension": ".py",
   "mimetype": "text/x-python",
   "name": "python",
   "nbconvert_exporter": "python",
   "pygments_lexer": "ipython3",
   "version": "3.8.8"
  }
 },
 "nbformat": 4,
 "nbformat_minor": 5
}
